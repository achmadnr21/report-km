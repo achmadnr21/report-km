{
 "cells": [
  {
   "cell_type": "markdown",
   "metadata": {},
   "source": [
    "# Canonical Analysis"
   ]
  },
  {
   "cell_type": "markdown",
   "metadata": {},
   "source": [
    "Canonical analysis is typically used when there are two sets of interrelated variables, with the aim of understanding the relationship between the two sets of variables. The primary objective of canonical analysis is to identify linear combinations, known as canonical variates, that maximize the correlation between the two sets of variables.\n",
    "\n",
    "In canonical analysis, the two sets of variables are referred to as the \"dependent variables\" and the \"independent variables.\" The goal is to find a linear combination of the independent variables that best predicts or explains the variation in the dependent variables.\n",
    "\n",
    "Canonical analysis allows for the examination of the underlying structure and relationships between the sets of variables. It helps uncover the dimensions or latent factors that explain the covariation between the two sets of variables. These canonical variates can provide insights into the patterns, associations, and dependencies between the two sets, facilitating a deeper understanding of the relationship between them.\n",
    "\n",
    "The results of canonical analysis are typically presented in terms of canonical correlation coefficients, canonical loadings, and canonical weights. These measures provide information about the strength and direction of the relationship between the canonical variates and the original variables\n",
    "\n",
    "We will use a simple 2D array as an example. But in practice, of course we will have larger datasets."
   ]
  },
  {
   "cell_type": "code",
   "execution_count": 72,
   "metadata": {},
   "outputs": [],
   "source": [
    "from sklearn.cross_decomposition import CCA\n",
    "import numpy as np\n",
    "import pandas as pd\n",
    "import seaborn as sns\n",
    "import matplotlib.pyplot as plt"
   ]
  },
  {
   "cell_type": "code",
   "execution_count": 73,
   "metadata": {},
   "outputs": [],
   "source": [
    "# Data Prepare\n",
    "np.random.seed(42)\n",
    "num_points = 60\n",
    "row = 15\n",
    "col = 4\n",
    "X = np.random.rand(num_points).reshape(row,col)  # Set data X\n",
    "Y = np.random.rand(num_points).reshape(row,col)  # Set data Y"
   ]
  },
  {
   "cell_type": "markdown",
   "metadata": {},
   "source": [
    "We can use the CCA module from sklearn.cross_decomposition to do the Canonical Computation and get the new components based on the n_components argument given by us."
   ]
  },
  {
   "cell_type": "code",
   "execution_count": 87,
   "metadata": {},
   "outputs": [
    {
     "name": "stdout",
     "output_type": "stream",
     "text": [
      "Transformed X Shape:(15, 1)\n",
      "Transformed Y Shape:(15, 1)\n",
      "Transformed X first 5 data:\n",
      "[[-0.03951495]\n",
      " [ 0.04975444]\n",
      " [-1.84470638]\n",
      " [-0.50758003]\n",
      " [ 0.48318446]\n",
      " [ 0.07088378]]\n",
      "Transformed Y first 5 data:\n",
      "[[-0.08306192]\n",
      " [ 0.06822751]\n",
      " [-2.03847424]\n",
      " [-1.89207503]\n",
      " [ 1.79191654]\n",
      " [ 0.39753424]]\n"
     ]
    }
   ],
   "source": [
    "\n",
    "# Canonical Analysis\n",
    "cca = CCA(n_components=1)\n",
    "cca.fit(X, Y)\n",
    "\n",
    "cca.coef_.shape\n",
    "# Get transformed Data\n",
    "X_c, Y_c = cca.transform(X, Y)\n",
    "\n",
    "# Print the Results\n",
    "print(f\"Transformed X Shape:{X_c.shape}\")\n",
    "print(f\"Transformed Y Shape:{Y_c.shape}\")\n",
    "print(\"Transformed X first 5 data:\")\n",
    "print(X_c[0:6])\n",
    "print(\"Transformed Y first 5 data:\")\n",
    "print(Y_c[0:6])\n"
   ]
  },
  {
   "cell_type": "code",
   "execution_count": 88,
   "metadata": {},
   "outputs": [
    {
     "data": {
      "text/html": [
       "<div>\n",
       "<style scoped>\n",
       "    .dataframe tbody tr th:only-of-type {\n",
       "        vertical-align: middle;\n",
       "    }\n",
       "\n",
       "    .dataframe tbody tr th {\n",
       "        vertical-align: top;\n",
       "    }\n",
       "\n",
       "    .dataframe thead th {\n",
       "        text-align: right;\n",
       "    }\n",
       "</style>\n",
       "<table border=\"1\" class=\"dataframe\">\n",
       "  <thead>\n",
       "    <tr style=\"text-align: right;\">\n",
       "      <th></th>\n",
       "      <th>CCX</th>\n",
       "      <th>CCY</th>\n",
       "    </tr>\n",
       "  </thead>\n",
       "  <tbody>\n",
       "    <tr>\n",
       "      <th>0</th>\n",
       "      <td>-0.039515</td>\n",
       "      <td>-0.083062</td>\n",
       "    </tr>\n",
       "    <tr>\n",
       "      <th>1</th>\n",
       "      <td>0.049754</td>\n",
       "      <td>0.068228</td>\n",
       "    </tr>\n",
       "    <tr>\n",
       "      <th>2</th>\n",
       "      <td>-1.844706</td>\n",
       "      <td>-2.038474</td>\n",
       "    </tr>\n",
       "    <tr>\n",
       "      <th>3</th>\n",
       "      <td>-0.507580</td>\n",
       "      <td>-1.892075</td>\n",
       "    </tr>\n",
       "    <tr>\n",
       "      <th>4</th>\n",
       "      <td>0.483184</td>\n",
       "      <td>1.791917</td>\n",
       "    </tr>\n",
       "  </tbody>\n",
       "</table>\n",
       "</div>"
      ],
      "text/plain": [
       "        CCX       CCY\n",
       "0 -0.039515 -0.083062\n",
       "1  0.049754  0.068228\n",
       "2 -1.844706 -2.038474\n",
       "3 -0.507580 -1.892075\n",
       "4  0.483184  1.791917"
      ]
     },
     "execution_count": 88,
     "metadata": {},
     "output_type": "execute_result"
    }
   ],
   "source": [
    "cc_res = pd.DataFrame({\n",
    "    \"CCX\": X_c[:, 0],\n",
    "    \"CCY\": Y_c[:, 0],\n",
    "})\n",
    "cc_res.head()"
   ]
  },
  {
   "cell_type": "markdown",
   "metadata": {},
   "source": [
    "We can compute the correlation by using np.corrcoef()"
   ]
  },
  {
   "cell_type": "code",
   "execution_count": 89,
   "metadata": {},
   "outputs": [
    {
     "data": {
      "text/plain": [
       "array([[1.        , 0.76373679],\n",
       "       [0.76373679, 1.        ]])"
      ]
     },
     "execution_count": 89,
     "metadata": {},
     "output_type": "execute_result"
    }
   ],
   "source": [
    "np.corrcoef(X_c[:, 0], Y_c[:, 0])"
   ]
  },
  {
   "cell_type": "markdown",
   "metadata": {},
   "source": [
    "After Compute the correlation, we can see the pair variable are having a high enough correlation"
   ]
  },
  {
   "cell_type": "code",
   "execution_count": 91,
   "metadata": {},
   "outputs": [
    {
     "data": {
      "text/plain": [
       "Text(0.5, 1.0, 'component correlation = 0.76')"
      ]
     },
     "execution_count": 91,
     "metadata": {},
     "output_type": "execute_result"
    },
    {
     "data": {
      "image/png": "[encoded data removed]",
      "text/plain": [
       "<Figure size 500x400 with 1 Axes>"
      ]
     },
     "metadata": {},
     "output_type": "display_data"
    }
   ],
   "source": [
    "sns.set_context(\"talk\", font_scale=1.0)\n",
    "plt.figure(figsize=(5,4))\n",
    "sns.scatterplot(x=\"CCX\",\n",
    "                y=\"CCY\", \n",
    "                data=cc_res)\n",
    "plt.title(\"component correlation = %.2f\" %np.corrcoef(X_c[:, 0], Y_c[:, 0])[0, 1])\n"
   ]
  }
 ],
 "metadata": {
  "kernelspec": {
   "display_name": "Python 3",
   "language": "python",
   "name": "python3"
  },
  "language_info": {
   "codemirror_mode": {
    "name": "ipython",
    "version": 3
   },
   "file_extension": ".py",
   "mimetype": "text/x-python",
   "name": "python",
   "nbconvert_exporter": "python",
   "pygments_lexer": "ipython3",
   "version": "3.8.10"
  },
  "orig_nbformat": 4
 },
 "nbformat": 4,
 "nbformat_minor": 2
}
