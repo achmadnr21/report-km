{
 "cells": [
  {
   "cell_type": "markdown",
   "metadata": {},
   "source": [
    "## MANOVA (Multivariate Analysis of Variance)"
   ]
  },
  {
   "cell_type": "code",
   "execution_count": 1,
   "metadata": {},
   "outputs": [],
   "source": [
    "import pandas as pd\n",
    "import statsmodels.api as sm\n",
    "from statsmodels.multivariate.manova import MANOVA"
   ]
  },
  {
   "cell_type": "code",
   "execution_count": 9,
   "metadata": {},
   "outputs": [
    {
     "name": "stderr",
     "output_type": "stream",
     "text": [
      "C:\\Users\\user\\AppData\\Local\\Temp\\ipykernel_16664\\3139173718.py:4: FutureWarning: The default value of regex will change from True to False in a future version. In addition, single character regular expressions will *not* be treated as literal strings when regex=True.\n",
      "  df.columns = df.columns.str.replace(\".\", \"_\")\n"
     ]
    },
    {
     "data": {
      "text/html": [
       "<div>\n",
       "<style scoped>\n",
       "    .dataframe tbody tr th:only-of-type {\n",
       "        vertical-align: middle;\n",
       "    }\n",
       "\n",
       "    .dataframe tbody tr th {\n",
       "        vertical-align: top;\n",
       "    }\n",
       "\n",
       "    .dataframe thead th {\n",
       "        text-align: right;\n",
       "    }\n",
       "</style>\n",
       "<table border=\"1\" class=\"dataframe\">\n",
       "  <thead>\n",
       "    <tr style=\"text-align: right;\">\n",
       "      <th></th>\n",
       "      <th>Sepal_Length</th>\n",
       "      <th>Sepal_Width</th>\n",
       "      <th>Petal_Length</th>\n",
       "      <th>Petal_Width</th>\n",
       "      <th>Species</th>\n",
       "    </tr>\n",
       "  </thead>\n",
       "  <tbody>\n",
       "    <tr>\n",
       "      <th>1</th>\n",
       "      <td>5.1</td>\n",
       "      <td>3.5</td>\n",
       "      <td>1.4</td>\n",
       "      <td>0.2</td>\n",
       "      <td>setosa</td>\n",
       "    </tr>\n",
       "    <tr>\n",
       "      <th>2</th>\n",
       "      <td>4.9</td>\n",
       "      <td>3.0</td>\n",
       "      <td>1.4</td>\n",
       "      <td>0.2</td>\n",
       "      <td>setosa</td>\n",
       "    </tr>\n",
       "    <tr>\n",
       "      <th>3</th>\n",
       "      <td>4.7</td>\n",
       "      <td>3.2</td>\n",
       "      <td>1.3</td>\n",
       "      <td>0.2</td>\n",
       "      <td>setosa</td>\n",
       "    </tr>\n",
       "    <tr>\n",
       "      <th>4</th>\n",
       "      <td>4.6</td>\n",
       "      <td>3.1</td>\n",
       "      <td>1.5</td>\n",
       "      <td>0.2</td>\n",
       "      <td>setosa</td>\n",
       "    </tr>\n",
       "    <tr>\n",
       "      <th>5</th>\n",
       "      <td>5.0</td>\n",
       "      <td>3.6</td>\n",
       "      <td>1.4</td>\n",
       "      <td>0.2</td>\n",
       "      <td>setosa</td>\n",
       "    </tr>\n",
       "  </tbody>\n",
       "</table>\n",
       "</div>"
      ],
      "text/plain": [
       "   Sepal_Length  Sepal_Width  Petal_Length  Petal_Width Species\n",
       "1           5.1          3.5           1.4          0.2  setosa\n",
       "2           4.9          3.0           1.4          0.2  setosa\n",
       "3           4.7          3.2           1.3          0.2  setosa\n",
       "4           4.6          3.1           1.5          0.2  setosa\n",
       "5           5.0          3.6           1.4          0.2  setosa"
      ]
     },
     "execution_count": 9,
     "metadata": {},
     "output_type": "execute_result"
    }
   ],
   "source": [
    "# Data Preparation\n",
    "url = 'https://vincentarelbundock.github.io/Rdatasets/csv/datasets/iris.csv'\n",
    "df = pd.read_csv(url, index_col=0)\n",
    "df.columns = df.columns.str.replace(\".\", \"_\")\n",
    "df.head()"
   ]
  },
  {
   "cell_type": "code",
   "execution_count": 10,
   "metadata": {},
   "outputs": [],
   "source": [
    "maov = MANOVA.from_formula('Sepal_Length + Sepal_Width + Petal_Length + Petal_Width  ~ Species', data=df)"
   ]
  },
  {
   "cell_type": "code",
   "execution_count": 11,
   "metadata": {},
   "outputs": [
    {
     "name": "stdout",
     "output_type": "stream",
     "text": [
      "                   Multivariate linear model\n",
      "================================================================\n",
      "                                                                \n",
      "----------------------------------------------------------------\n",
      "       Intercept         Value  Num DF  Den DF   F Value  Pr > F\n",
      "----------------------------------------------------------------\n",
      "          Wilks' lambda  0.0170 4.0000 144.0000 2086.7720 0.0000\n",
      "         Pillai's trace  0.9830 4.0000 144.0000 2086.7720 0.0000\n",
      " Hotelling-Lawley trace 57.9659 4.0000 144.0000 2086.7720 0.0000\n",
      "    Roy's greatest root 57.9659 4.0000 144.0000 2086.7720 0.0000\n",
      "----------------------------------------------------------------\n",
      "                                                                \n",
      "----------------------------------------------------------------\n",
      "        Species          Value  Num DF  Den DF   F Value  Pr > F\n",
      "----------------------------------------------------------------\n",
      "          Wilks' lambda  0.0234 8.0000 288.0000  199.1453 0.0000\n",
      "         Pillai's trace  1.1919 8.0000 290.0000   53.4665 0.0000\n",
      " Hotelling-Lawley trace 32.4773 8.0000 203.4024  582.1970 0.0000\n",
      "    Roy's greatest root 32.1919 4.0000 145.0000 1166.9574 0.0000\n",
      "================================================================\n",
      "\n"
     ]
    }
   ],
   "source": [
    "print(maov.mv_test())"
   ]
  },
  {
   "cell_type": "markdown",
   "metadata": {},
   "source": [
    "### Description\n",
    "- Value: This column represents the test statistic value for each effect or interaction term in the MANOVA analysis. The test statistic is typically based on the F-distribution.\n",
    "\n",
    "- Num DF: Num DF stands for the numerator degrees of freedom. It indicates the degrees of freedom associated with the numerator of the F-test for each effect or interaction term. The numerator degrees of freedom are based on the number of groups or levels of the factor being tested.\n",
    "\n",
    "- Den DF: Den DF stands for the denominator degrees of freedom. It represents the degrees of freedom associated with the denominator of the F-test for each effect or interaction term. The denominator degrees of freedom are based on the error term, which measures the within-group variability.\n",
    "\n",
    "- F Value: The F value is the ratio of the between-group variability to the within-group variability. It is calculated by dividing the mean square between (MSB) by the mean square within (MSW). It measures the strength of the effect or interaction term. Larger F values indicate more significant effects.\n",
    "\n",
    "- Pr > F: Pr > F represents the p-value associated with each effect or interaction term. It indicates the probability of observing the obtained F value (or a more extreme value) under the null hypothesis of no effect. Smaller p-values suggest stronger evidence against the null hypothesis and support the presence of a significant effect.\n",
    "\n",
    "By examining the F value and p-value for each effect or interaction term, you can determine whether there are significant differences among the groups or levels based on the variables being tested in the MANOVA analysis."
   ]
  },
  {
   "cell_type": "markdown",
   "metadata": {},
   "source": [
    "## Hypothesis\n",
    "\n",
    "- Null Hypothesis (H0): There is no significant difference among the \"Species\" groups regarding the multivariate response variables, which include \"Sepal_Length\", \"Sepal_Width\", \"Petal_Length\", and \"Petal_Width\".\n",
    "\n",
    "- Alternative Hypothesis (H1): There is a significant difference between at least one pair of \"Species\" groups regarding the multivariate response variables, which include \"Sepal_Length\", \"Sepal_Width\", \"Petal_Length\", and \"Petal_Width\"."
   ]
  },
  {
   "cell_type": "markdown",
   "metadata": {},
   "source": [
    "The MANOVA results provide information about the effect of the categorical variable \"Species\" on the multivariate response variables, which include \"Sepal_Length\", \"Sepal_Width\", \"Petal_Length\", and \"Petal_Width\". Let's explain each section of the MANOVA results:\n",
    "\n",
    "First Section (Intercept):\n",
    "- Wilks' lambda: This is the Wilks' lambda value, which indicates the proportion of variability explained by the model.\n",
    "- Pillai's trace: It represents the measure of the distance between groups in the multivariate space.\n",
    "- Hotelling-Lawley trace: This is a measure of the effect of groups in the multivariate space.\n",
    "- Roy's greatest root: It represents the strongest effect of groups in the univariate space.\n",
    "\n",
    "Second Section (Species):\n",
    "- Wilks' lambda: It indicates the proportion of variability explained by the variable \"Species\" in the multivariate response variables.\n",
    "- Pillai's trace: This measure represents the distance between \"Species\" groups in the multivariate space.\n",
    "- Hotelling-Lawley trace: It measures the effect of the \"Species\" groups in the multivariate space.\n",
    "- Roy's greatest root: This is the strongest effect of the \"Species\" groups in the univariate space.\n",
    "For each measure (Wilks' lambda, Pillai's trace, Hotelling-Lawley trace, and Roy's greatest root), there is a corresponding \"Value\" column that shows the value of the measure. Additionally, there are \"Num DF\" (numerator degrees of freedom) and \"Den DF\" (denominator degrees of freedom) columns, which indicate the degrees of freedom associated with the F-distribution used to test the significance of the effects or differences.\n",
    "\n",
    "The \"F Value\" column displays the calculated F-statistic value used to test the significance of the effects or differences. The \"Pr > F\" column indicates the p-value or the probability of association between the effects or differences and the variable \"Species\". In this case, all the \"Pr > F\" values are 0 (or very close to 0), which suggests significant differences between the \"Species\" groups in the multivariate response variables.\n",
    "\n",
    "Overall, the MANOVA results conclude that the variable \"Species\" significantly affects the multivariate response variables, which include \"Sepal_Length\", \"Sepal_Width\", \"Petal_Length\", and \"Petal_Width\"."
   ]
  }
 ],
 "metadata": {
  "kernelspec": {
   "display_name": "Python 3",
   "language": "python",
   "name": "python3"
  },
  "language_info": {
   "codemirror_mode": {
    "name": "ipython",
    "version": 3
   },
   "file_extension": ".py",
   "mimetype": "text/x-python",
   "name": "python",
   "nbconvert_exporter": "python",
   "pygments_lexer": "ipython3",
   "version": "3.8.10"
  },
  "orig_nbformat": 4
 },
 "nbformat": 4,
 "nbformat_minor": 2
}
